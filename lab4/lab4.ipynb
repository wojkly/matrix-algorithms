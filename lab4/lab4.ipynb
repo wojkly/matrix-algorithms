{
 "cells": [
  {
   "cell_type": "markdown",
   "id": "green-serial",
   "metadata": {},
   "source": [
    "# Laboratorium 4\n",
    "\n",
    "Wojciech Kłyszejko i Jan Stobnicki\n",
    "\n",
    "Zadanie 8 - Kolumnowa rzadka eliminacja Gaussa w formacie CSC"
   ]
  },
  {
   "cell_type": "code",
   "execution_count": 1,
   "id": "formal-investigation",
   "metadata": {},
   "outputs": [],
   "source": [
    "import numpy as np\n",
    "import matplotlib.pyplot as plt\n",
    "from matplotlib.pyplot import figure\n",
    "from scipy.sparse import csr_matrix\n",
    "from time import time\n",
    "\n",
    "def load_matrix(file_path):\n",
    "    with open(file_path, \"r\") as file:\n",
    "        return np.loadtxt(file, delimiter=\",\", dtype=np.float64)\n",
    "    \n",
    "def enlarge_matrix(m, q):\n",
    "    size = len(m) * q\n",
    "    res = np.zeros([size, size], dtype=np.float64)\n",
    "    for i in range(size):\n",
    "        for j in range(size):\n",
    "            res[i, j] = m[i % len(m), j % len(m)]\n",
    "    return res\n",
    "\n",
    "def draw_nonzero_values(m):\n",
    "    figure(figsize=(15, 9), dpi=80)\n",
    "    plt.spy(m)\n",
    "    plt.show()"
   ]
  },
  {
   "cell_type": "code",
   "execution_count": 2,
   "id": "forty-clearing",
   "metadata": {},
   "outputs": [
    {
     "data": {
      "image/png": "[encoded data removed]",
      "text/plain": [
       "<Figure size 1200x720 with 1 Axes>"
      ]
     },
     "metadata": {
      "needs_background": "light"
     },
     "output_type": "display_data"
    },
    {
     "data": {
      "image/png": "[encoded data removed]",
      "text/plain": [
       "<Figure size 1200x720 with 1 Axes>"
      ]
     },
     "metadata": {
      "needs_background": "light"
     },
     "output_type": "display_data"
    }
   ],
   "source": [
    "M1 = enlarge_matrix(load_matrix(\"matrices/mm01820.csv\"), 1)\n",
    "M2 = enlarge_matrix(load_matrix(\"matrices/mm11330.csv\"), 1)\n",
    "\n",
    "draw_nonzero_values(M1)\n",
    "draw_nonzero_values(M2)"
   ]
  },
  {
   "cell_type": "markdown",
   "id": "dated-blanket",
   "metadata": {},
   "source": [
    "Eliminacja Gaussa dla macierzy gęstej"
   ]
  },
  {
   "cell_type": "code",
   "execution_count": 13,
   "id": "sweet-mayor",
   "metadata": {},
   "outputs": [],
   "source": [
    "def gauss_elimination_dense(A):\n",
    "    mem_ops = 0\n",
    "    n = np.shape(A)[0]\n",
    "    B = A.astype(np.float32)\n",
    "    mem_ops += n ** 2 + 1\n",
    "    for i in range(n):\n",
    "        mem_ops += 1\n",
    "        for j in range(i+1, n):\n",
    "            r = B[j][i]/B[i][i]\n",
    "            mem_ops += 2\n",
    "            for k in range(n):\n",
    "                B[j][k] = B[j][k] - r * B[i][k]\n",
    "                mem_ops += 2\n",
    "    return B, mem_ops"
   ]
  },
  {
   "cell_type": "markdown",
   "id": "quiet-testament",
   "metadata": {},
   "source": [
    "Kolumnowa rzadka eliminacja Gaussa w formacie CSC"
   ]
  },
  {
   "cell_type": "code",
   "execution_count": 15,
   "id": "wired-wheat",
   "metadata": {},
   "outputs": [],
   "source": [
    "class MyCSC:\n",
    "    def __init__(self, n, indices = None, values = None, col_ptr = None):\n",
    "        if not (indices or values or col_ptr):\n",
    "            self.indices = []\n",
    "            self.values = []\n",
    "            self.col_ptr = [0 for _ in range(n + 1)]\n",
    "            self.n = n\n",
    "        else:\n",
    "            self.indices = indices\n",
    "            self.values = values\n",
    "            self.col_ptr = col_ptr\n",
    "            self.n = n\n",
    "\n",
    "class CSCUtil:\n",
    "    @staticmethod\n",
    "    def matrix_to_csc_format(A):\n",
    "        n = np.shape(A)[0]\n",
    "        nonzero_values = []\n",
    "        for col in range(n):\n",
    "            for row in range(n):\n",
    "                if A[row][col] != 0:\n",
    "                    nonzero_values.append((row,col))\n",
    "        nonzero_row = list(map(lambda e: e[0], nonzero_values))\n",
    "        nonzero_col = list(map(lambda e: e[1], nonzero_values))\n",
    "        \n",
    "        indices = nonzero_row\n",
    "        values = A[nonzero_row, nonzero_col]\n",
    "        \n",
    "        tmp = [0 for i in range(n + 1)]\n",
    "        for e in nonzero_col:\n",
    "            tmp[e + 1] += 1\n",
    "        for i in range(1, len(tmp)):\n",
    "            tmp[i] += tmp[i - 1]\n",
    "            \n",
    "        col_ptr = np.array(tmp)\n",
    "            \n",
    "        return MyCSC(n, indices, values, col_ptr)\n",
    "      \n",
    "    @staticmethod\n",
    "    def gauss_elimination_sparse(A):\n",
    "        mem_ops = 0\n",
    "        res = np.zeros(shape = (A.n, A.n), dtype=np.float64)\n",
    "        cur_matrix = A\n",
    "        mem_ops += A.n * A.n\n",
    "        for k in range(A.n - 1):\n",
    "            mem_ops += 1\n",
    "            next_matrix = MyCSC(A.n)\n",
    "            mem_ops += A.n + 3\n",
    "            \n",
    "            akk_val = None\n",
    "            akk_idx = None\n",
    "            mem_ops += 2\n",
    "            for x in range(cur_matrix.col_ptr[k] , cur_matrix.col_ptr[k + 1]):\n",
    "                res[cur_matrix.indices[x], k] = cur_matrix.values[x]\n",
    "                mem_ops += 2\n",
    "                if cur_matrix.indices[x] < k:\n",
    "                    res[cur_matrix.indices[x], k] = cur_matrix.values[x]\n",
    "                    mem_ops += 1\n",
    "                elif cur_matrix.indices[x] == k:\n",
    "                    res[cur_matrix.indices[x], k] = cur_matrix.values[x]\n",
    "                    akk_idx = x\n",
    "                    akk_val = cur_matrix.values[x]\n",
    "                    mem_ops += 3\n",
    "                else:\n",
    "                    break\n",
    "            if akk_idx == None:\n",
    "                raise Exception(\"zerowa wartosc na przekatnej\")\n",
    "                \n",
    "            for j in range(k + 1, A.n):\n",
    "                new_j_col_idx = []\n",
    "                new_j_col_vals = []\n",
    "                \n",
    "                j_col_k_row_idx = None\n",
    "                mem_ops += 4\n",
    "                for i in range(cur_matrix.col_ptr[j], cur_matrix.col_ptr[j + 1]):\n",
    "                    new_j_col_idx.append(cur_matrix.indices[i])\n",
    "                    new_j_col_vals.append(cur_matrix.values[i])\n",
    "                    mem_ops += 3\n",
    "                    if cur_matrix.indices[i] == k:\n",
    "                        j_col_k_row_idx = i\n",
    "                        mem_ops += 1\n",
    "                        break\n",
    "                     \n",
    "                    \n",
    "                if j_col_k_row_idx:\n",
    "                    k_idx = akk_idx + 1\n",
    "                    j_idx = j_col_k_row_idx + 1\n",
    "                    mem_ops += 2\n",
    "                    while k_idx < cur_matrix.col_ptr[k + 1] and j_idx < cur_matrix.col_ptr[j + 1] :\n",
    "                        k_row = cur_matrix.indices[k_idx]\n",
    "                        j_row = cur_matrix.indices[j_idx]\n",
    "                        k_row_val = cur_matrix.values[k_idx]\n",
    "                        j_row_val = cur_matrix.values[j_idx]\n",
    "                        mem_ops += 4\n",
    "                        \n",
    "                        if k_row == j_row:\n",
    "                            new_val = j_row_val - (k_row_val / akk_val) * cur_matrix.values[j_col_k_row_idx]\n",
    "                            mem_ops += 1\n",
    "                            if abs(new_val) > 10**-6:\n",
    "                                new_j_col_idx.append(j_row)\n",
    "                                new_j_col_vals.append(new_val)\n",
    "                                mem_ops += 2\n",
    "                            k_idx += 1\n",
    "                            j_idx += 1\n",
    "                            mem_ops += 2\n",
    "                        elif k_row < j_row:\n",
    "                            new_val = - (k_row_val / akk_val) * cur_matrix.values[j_col_k_row_idx]\n",
    "                            mem_ops += 1\n",
    "                            if abs(new_val) > 10**-6:\n",
    "                                new_j_col_idx.append(j_row)\n",
    "                                new_j_col_vals.append(new_val)\n",
    "                                mem_ops += 2\n",
    "                            k_idx += 1\n",
    "                            mem_ops += 1\n",
    "                        else:\n",
    "                            if abs(j_row_val) > 10**-6:\n",
    "                                new_j_col_idx.append(j_row)\n",
    "                                new_j_col_vals.append(j_row_val)\n",
    "                                mem_ops += 2\n",
    "                            j_idx += 1\n",
    "                            mem_ops += 1\n",
    "                        \n",
    "                    while j_idx < cur_matrix.col_ptr[j + 1] :\n",
    "                        j_row = cur_matrix.indices[j_idx]\n",
    "                        j_row_val = cur_matrix.values[j_idx]\n",
    "                        mem_ops += 2\n",
    "                        \n",
    "                        if abs(j_row_val) > 10**-6:\n",
    "                            new_j_col_idx.append(j_row)\n",
    "                            new_j_col_vals.append(j_row_val)\n",
    "                            mem_ops += 2\n",
    "                        j_idx += 1\n",
    "                        mem_ops += 1\n",
    "                        \n",
    "                next_matrix.indices.extend(new_j_col_idx)\n",
    "                next_matrix.values.extend(new_j_col_vals)\n",
    "                next_matrix.col_ptr[j + 1] = next_matrix.col_ptr[j] + len(new_j_col_idx)\n",
    "                mem_ops += len(new_j_col_idx) + len(new_j_col_vals) + 1\n",
    "                \n",
    "            cur_matrix = next_matrix\n",
    "            mem_ops += 1\n",
    "\n",
    "            \n",
    "        for ab in range(next_matrix.col_ptr[A.n - 1],next_matrix.col_ptr[A.n]):\n",
    "            res[next_matrix.indices[ab], -1] = next_matrix.values[ab]\n",
    "            mem_ops += 2\n",
    "            \n",
    "        return res, mem_ops"
   ]
  },
  {
   "cell_type": "code",
   "execution_count": 16,
   "id": "aware-values",
   "metadata": {},
   "outputs": [],
   "source": [
    "def verify(a, b):\n",
    "    n = np.shape(a)[0]\n",
    "    wrong = np.zeros(shape=(n,n))\n",
    "    for i in range(n):\n",
    "        for j in range(n):\n",
    "            if abs(a[i, j] - b[i, j]) > 10**-1:\n",
    "                wrong[i, j] = 1\n",
    "                print(\"is: \", b[i, j], \"should be: \", a[i, j])\n",
    "                raise Exception(\"is: \" + b[i, j] + \" should be: \" + a[i, j])\n",
    "    return wrong"
   ]
  },
  {
   "cell_type": "markdown",
   "id": "intermediate-chaos",
   "metadata": {},
   "source": [
    "Testy i mierzenie czasu:"
   ]
  },
  {
   "cell_type": "code",
   "execution_count": 17,
   "id": "announced-express",
   "metadata": {},
   "outputs": [],
   "source": [
    "def timetest(M, el_type):\n",
    "    start_time = time()\n",
    "    C = mem_ops = None\n",
    "    if el_type == \"dense\":\n",
    "        C, mem_ops = gauss_elimination_dense(M)\n",
    "    elif el_type == \"sparse\":\n",
    "        m_csc = CSCUtil.matrix_to_csc_format(M)\n",
    "        C, mem_ops = CSCUtil.gauss_elimination_sparse(m_csc)\n",
    "    res = time() - start_time\n",
    "    return res, C, mem_ops\n",
    "\n",
    "\n",
    "def get_average_mul_time(M, trial_number):\n",
    "    print(f\"M: {len(M)}x{len(M)}\")\n",
    "    total_time_dense = total_time_sparse = 0\n",
    "    for i in range(trial_number):\n",
    "        \n",
    "        test_dense_i, res_dense, mem_ops_dense = timetest(M, \"dense\")\n",
    "        test_sparse_i, res_sparse, mem_ops_sparse = timetest(M, \"sparse\")\n",
    "        \n",
    "        verify(res_dense, res_sparse)\n",
    "        print(f\"i = {i + 1}| dense: {test_dense_i}\\n     | sparse: {test_sparse_i}\")\n",
    "        total_time_dense += test_dense_i\n",
    "        total_time_sparse += test_sparse_i\n",
    "    print(\"Avg time for dense elimination is: \" + str(total_time_dense / trial_number) + \" seconds\")\n",
    "    print(\"Avg time for sparse elimination is: \" + str(total_time_sparse / trial_number) + \" seconds\")\n",
    "    print(f\"Memory operations (dense): {mem_ops_dense}\")\n",
    "    print(f\"Memory operations (sparse): {mem_ops_sparse}\")\n",
    "    draw_nonzero_values(res_sparse)\n",
    "    print()"
   ]
  },
  {
   "cell_type": "code",
   "execution_count": 18,
   "id": "breeding-ethnic",
   "metadata": {},
   "outputs": [
    {
     "name": "stdout",
     "output_type": "stream",
     "text": [
      "M: 400x400\n",
      "i = 1| dense: 19.785037994384766\n",
      "     | sparse: 0.5297873020172119\n",
      "i = 2| dense: 21.903228282928467\n",
      "     | sparse: 0.4860100746154785\n",
      "i = 3| dense: 19.511972904205322\n",
      "     | sparse: 0.43208861351013184\n",
      "Avg time for dense elimination is: 20.40007972717285 seconds\n",
      "Avg time for sparse elimination is: 0.48262866338094074 seconds\n",
      "Memory operations (dense): 64160001\n",
      "Memory operations (sparse): 9427039\n"
     ]
    },
    {
     "data": {
      "image/png": "[encoded data removed]",
      "text/plain": [
       "<Figure size 1200x720 with 1 Axes>"
      ]
     },
     "metadata": {
      "needs_background": "light"
     },
     "output_type": "display_data"
    },
    {
     "name": "stdout",
     "output_type": "stream",
     "text": [
      "\n"
     ]
    }
   ],
   "source": [
    "get_average_mul_time(M1, 3)"
   ]
  },
  {
   "cell_type": "code",
   "execution_count": 19,
   "id": "focal-array",
   "metadata": {},
   "outputs": [
    {
     "name": "stdout",
     "output_type": "stream",
     "text": [
      "M: 784x784\n",
      "i = 1| dense: 137.76303434371948\n",
      "     | sparse: 2.3547744750976562\n",
      "i = 2| dense: 141.14878153800964\n",
      "     | sparse: 2.39768123626709\n",
      "i = 3| dense: 139.99724507331848\n",
      "     | sparse: 2.505326747894287\n",
      "Avg time for dense elimination is: 139.63635365168253 seconds\n",
      "Avg time for sparse elimination is: 2.419260819753011 seconds\n",
      "Memory operations (dense): 482504961\n",
      "Memory operations (sparse): 52006245\n"
     ]
    },
    {
     "data": {
      "image/png": "[encoded data removed]",
      "text/plain": [
       "<Figure size 1200x720 with 1 Axes>"
      ]
     },
     "metadata": {
      "needs_background": "light"
     },
     "output_type": "display_data"
    },
    {
     "name": "stdout",
     "output_type": "stream",
     "text": [
      "\n"
     ]
    }
   ],
   "source": [
    "get_average_mul_time(M2, 3)"
   ]
  },
  {
   "cell_type": "code",
   "execution_count": null,
   "id": "recovered-classic",
   "metadata": {},
   "outputs": [],
   "source": []
  }
 ],
 "metadata": {
  "kernelspec": {
   "display_name": "Python 3",
   "language": "python",
   "name": "python3"
  },
  "language_info": {
   "codemirror_mode": {
    "name": "ipython",
    "version": 3
   },
   "file_extension": ".py",
   "mimetype": "text/x-python",
   "name": "python",
   "nbconvert_exporter": "python",
   "pygments_lexer": "ipython3",
   "version": "3.9.5"
  }
 },
 "nbformat": 4,
 "nbformat_minor": 5
}
