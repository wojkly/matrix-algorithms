{
 "cells": [
  {
   "cell_type": "markdown",
   "metadata": {},
   "source": [
    "## 3. Jaki jest koszt obliczeniowy i pamięciowy (flopsy i memopsy) zaimplementowanego algorytmu?"
   ]
  },
  {
   "cell_type": "markdown",
   "metadata": {},
   "source": [
    "### a) Koszt obliczeniowy funkcji shur_complement\n",
    "\n",
    "\n"
   ]
  },
  {
   "cell_type": "markdown",
   "metadata": {},
   "source": [
    "\n",
    "Zbadaliśmy po kolei liczbę iteracji pętli oraz operacji zmiennoprzecinkowych:"
   ]
  },
  {
   "cell_type": "markdown",
   "metadata": {},
   "source": [
    "Pierwsza pętla for iteruje:\n",
    "\n",
    "od $ k = 0 $ do $ k = n - m - 1 $\n",
    "\n",
    "Operacja dzielenia $ A[k, k:n] = A[k, k:n] / Akk $\n",
    "\n",
    "$ n - 1 - k $\n",
    "\n",
    "Druga pętla for iteruje:\n",
    "\n",
    "od $ j = k + 1 $ do $ j = n - k $\n",
    "\n",
    "Operacje dzielenia i odejmowania $ A[j, k+1:n] $ -= $ A[k, k+1:n] * A[j, k] $\n",
    "\n",
    "$ 2 \\cdot ( n - (k + 1) - 1) = 2 \\cdot (n - k) $"
   ]
  },
  {
   "cell_type": "markdown",
   "metadata": {},
   "source": [
    "Czyli mamy:"
   ]
  },
  {
   "cell_type": "markdown",
   "metadata": {},
   "source": [
    "$ \\sum_{k=0}^{n - m - 1} {(n - k - 1 + \\sum_{j=k+1}^{n - 1}{2 \\cdot (n - k)}) } $"
   ]
  },
  {
   "cell_type": "markdown",
   "metadata": {},
   "source": [
    "Co daje nam wynik:"
   ]
  },
  {
   "cell_type": "markdown",
   "metadata": {},
   "source": [
    "$ 1/2 (n - m) (2 m^2 + 3 m + 2 n^2 - n - 1) $ "
   ]
  },
  {
   "cell_type": "markdown",
   "metadata": {},
   "source": [
    "### b) Koszt pamięciowy funkcji shur_complement"
   ]
  },
  {
   "cell_type": "markdown",
   "metadata": {},
   "source": [
    "Postępowaliśmy analogicznie, jak w przypadku poprzednim"
   ]
  },
  {
   "cell_type": "markdown",
   "metadata": {},
   "source": [
    "Pierwsza pętla for iteruje:\n",
    "\n",
    "od $ k = 0 $ do $ k = n - m - 1 $\n",
    "\n",
    "Przypisanie $ Akk = A[k, k] $ \n",
    "\n",
    "$1$\n",
    "\n",
    "Operacja dzielenia $ A[k, k:n] = A[k, k:n] / Akk $\n",
    "\n",
    "$ n - 1 - k $\n",
    "\n",
    "Druga pętla for iteruje:\n",
    "\n",
    "od $ j = k + 1 $ do $ j = n - k $\n",
    "\n",
    "Operacje dzielenia i odejmowania $ A[j, k+1:n] $ -= $ A[k, k+1:n] * A[j, k] $\n",
    "\n",
    "$ 2 \\cdot ( n - (k + 1) - 1) + 1 = 2n - 2k + 1$"
   ]
  },
  {
   "cell_type": "markdown",
   "metadata": {},
   "source": [
    "Czyli mamy:"
   ]
  },
  {
   "cell_type": "markdown",
   "metadata": {},
   "source": [
    "$ \\sum_{k=0}^{n - m - 1} {(n - k + \\sum_{j=k+1}^{n - 1}{2n -2k + 1}) } $"
   ]
  },
  {
   "cell_type": "markdown",
   "metadata": {},
   "source": [
    "Co daje nam wynik:"
   ]
  },
  {
   "cell_type": "markdown",
   "metadata": {},
   "source": [
    "$  (n - m) [(n+1)^2 + (m+2)^2 - 1] $ "
   ]
  },
  {
   "cell_type": "markdown",
   "metadata": {},
   "source": []
  }
 ],
 "metadata": {
  "kernelspec": {
   "display_name": "Python 3",
   "language": "python",
   "name": "python3"
  },
  "language_info": {
   "codemirror_mode": {
    "name": "ipython",
    "version": 3
   },
   "file_extension": ".py",
   "mimetype": "text/x-python",
   "name": "python",
   "nbconvert_exporter": "python",
   "pygments_lexer": "ipython3",
   "version": "3.8.3"
  }
 },
 "nbformat": 4,
 "nbformat_minor": 4
}
