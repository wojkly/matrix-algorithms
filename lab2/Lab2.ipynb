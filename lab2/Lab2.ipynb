{
 "cells": [
  {
   "cell_type": "markdown",
   "metadata": {},
   "source": [
    "# Laboratorium 2 \n",
    "Wojciech Kłyszejko i Jan Stobnicki"
   ]
  },
  {
   "cell_type": "code",
   "execution_count": 1,
   "metadata": {},
   "outputs": [],
   "source": [
    "\n",
    "\n",
    "import matplotlib.pyplot as plt\n",
    "from matplotlib.pyplot import figure\n",
    "import numpy as np\n",
    "\n",
    "def load_matrix(file_path):\n",
    "    with open(file_path, \"r\") as file:\n",
    "        return np.loadtxt(file, delimiter=\",\")\n",
    "    \n",
    "def enlarge_matrix(m, q):\n",
    "    size = len(m) * q\n",
    "    res = np.zeros([size, size])\n",
    "    for i in range(size):\n",
    "        for j in range(size):\n",
    "            res[i, j] = m[i % len(m), j % len(m)]\n",
    "    return res\n",
    "\n",
    "def draw_nonzero_values(m):\n",
    "    figure(figsize=(15, 9), dpi=80)\n",
    "    plt.spy(m)\n",
    "    plt.show()\n",
    "\n"
   ]
  },
  {
   "cell_type": "code",
   "execution_count": 4,
   "metadata": {},
   "outputs": [],
   "source": [
    "\n",
    "\n",
    "# M1 = enlarge_matrix(load_matrix(\"matrices/iga4_2.csv\"), 50)\n",
    "# M2 = enlarge_matrix(load_matrix(\"matrices/iga4_2.csv\"), 50)\n",
    "\n",
    "# M3 = M1@M2\n",
    "\n",
    "# draw_nonzero_values(M1)\n",
    "# draw_nonzero_values(M2)\n",
    "# draw_nonzero_values(M3)\n",
    "\n",
    "\n",
    "def shur_complement(A, n, m):\n",
    "    number_of_steps = min(n - m, n - 1)\n",
    "    for k in range(number_of_steps):\n",
    "        Akk = A[k, k]\n",
    "        A[k, k:n] = A[k, k:n] / Akk\n",
    "        for j in range(k+1, n):\n",
    "            A[j, k+1:n] -= A[k, k+1:n] * A[j, k]\n"
   ]
  },
  {
   "cell_type": "code",
   "execution_count": 3,
   "metadata": {},
   "outputs": [],
   "source": [
    "from time import time\n",
    "\n",
    "def timetest(m1, m2, mul_type, block_size: None):\n",
    "    start_time = time()\n",
    "    \n",
    "    if mul_type == \"block\":\n",
    "        block_matrix_multiplication(m1, m2, block_size, block_size, block_size)\n",
    "    else:\n",
    "        ijp_multiplication(m1,m2)\n",
    "    res = time() - start_time\n",
    "    print(res)\n",
    "    return res\n",
    "\n",
    "\n",
    "def get_average_mul_time(m1, m2, mul_type, trial_number, block_size: None):\n",
    "    total_time = 0\n",
    "    for i in range(trial_number):\n",
    "        total_time += timetest(m1, m2, mul_type, block_size)\n",
    "    res = total_time / trial_number\n",
    "    print(\"Avg time for \"+ str(mul_type) + \" is: \" + str(res) + \" seconds\")\n",
    "    return res\n",
    "\n",
    "def plot_timetest_results(block_sizes, time_taken):\n",
    "    \n",
    "    x_coords = [i for i in range(len(block_sizes))]\n",
    "    \n",
    "    plt.scatter(x_coords, time_taken, color='red')\n",
    "\n",
    "    plt.xlabel(\"Block size\")\n",
    "    plt.ylabel(\"Multiplication time in [seconds]\")\n",
    "    plt.xticks(x_coords, block_sizes)\n",
    "\n",
    "    plt.show()"
   ]
  },
  {
   "cell_type": "code",
   "execution_count": null,
   "metadata": {},
   "outputs": [],
   "source": []
  }
 ],
 "metadata": {
  "kernelspec": {
   "display_name": "Python 3",
   "language": "python",
   "name": "python3"
  },
  "language_info": {
   "codemirror_mode": {
    "name": "ipython",
    "version": 3
   },
   "file_extension": ".py",
   "mimetype": "text/x-python",
   "name": "python",
   "nbconvert_exporter": "python",
   "pygments_lexer": "ipython3",
   "version": "3.8.3"
  }
 },
 "nbformat": 4,
 "nbformat_minor": 4
}
